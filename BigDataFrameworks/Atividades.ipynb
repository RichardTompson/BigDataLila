{
 "cells": [
  {
   "cell_type": "markdown",
   "metadata": {},
   "source": [
    "# AV Big Data Frameworks Spark\n",
    "\n",
    "Você foi contratado por uma empresa para efetuar uma análise de dados. Esta empresa possui acesso a uma base de dados com dados sobre incidentes criminais na cidade de Chicago desde 2001. Nesse cenário, para cada incidente criminal presente na base de dados são fornecidos os seguintes campos:\n",
    "<table border=\"1\" cellspacing=\"0\" cellpadding=\"0\" style=\"width: 389px; height: 235px;\"> \n",
    "   <tbody> \n",
    "    <tr> \n",
    "     <td width=\"64\" valign=\"top\">Campo</td> \n",
    "     <td width=\"189\" valign=\"top\">Descrição</td> \n",
    "    </tr> \n",
    "    <tr> \n",
    "     <td width=\"64\">Dia</td> \n",
    "     <td width=\"189\">Dia da ocorrência</td> \n",
    "    </tr> \n",
    "    <tr> \n",
    "     <td width=\"64\">Mês</td> \n",
    "     <td width=\"189\">Mês da ocorrência</td> \n",
    "    </tr> \n",
    "    <tr> \n",
    "     <td width=\"64\">Ano</td> \n",
    "     <td width=\"189\">Ano da ocorrência</td> \n",
    "    </tr> \n",
    "    <tr> \n",
    "     <td width=\"64\">Bloco</td> \n",
    "     <td width=\"189\">Região da ocorrência</td> \n",
    "    </tr> \n",
    "    <tr> \n",
    "     <td width=\"64\">Tipo</td> \n",
    "     <td width=\"189\">Tipo da ocorrência criminal</td> \n",
    "    </tr> \n",
    "    <tr> \n",
    "     <td width=\"64\">Descrição</td> \n",
    "     <td width=\"189\">Breve descrição da ocorrência</td> \n",
    "    </tr> \n",
    "    <tr> \n",
    "     <td width=\"64\">Descrição da localização</td> \n",
    "     <td width=\"189\">Descrição sobre a localização da ocorrência, e.g. Rua</td> \n",
    "    </tr> \n",
    "    <tr> \n",
    "     <td width=\"64\">Latitude</td> \n",
    "     <td width=\"189\">Localização da ocorrência</td> \n",
    "    </tr> \n",
    "    <tr> \n",
    "     <td width=\"64\">Longitude</td> \n",
    "     <td width=\"189\">Localização da ocorrência</td> \n",
    "    </tr> \n",
    "   </tbody> \n",
    "  </table>\n",
    "  \n",
    "Diante desse contexto, você foi encarregado pelo desenvolvimento de um conjunto de soluções no Apache Spark, que permitam a extração das seguintes informações sobre a base:\n",
    "<pre>\n",
    "Quantidade de crimes por ano\n",
    "Quantidade de crimes por ano que sejam do tipo NARCOTICS\n",
    "Quantidade de crimes por ano, que sejam do tipo NARCOTICS, e tenham ocorrido em dias pares;\n",
    "Mês com maior ocorrência de crimes;\n",
    "Mês com a maior média de ocorrência de crimes;\n",
    "Mês por ano com a maior ocorrência de crimes;\n",
    "Mês com a maior ocorrência de crimes do tipo “DECEPTIVE PRACTICE”\n",
    "Dia do ano com a maior ocorrência de crimes;\n",
    "</pre>"
   ]
  },
  {
   "cell_type": "code",
   "execution_count": null,
   "metadata": {},
   "outputs": [],
   "source": []
  },
  {
   "cell_type": "code",
   "execution_count": 1,
   "metadata": {},
   "outputs": [],
   "source": [
    "'''from pyspark.sql import SparkSession\n",
    "spark = SparkSession.builder \\\n",
    "   .master(\"local\") \\\n",
    "   .appName(\"Big Data Frameworks\") \\\n",
    "   .config(\"spark.executor.memory\", \"2gb\") \\\n",
    "   .getOrCreate()\n",
    "sc = spark.sparkContext\n",
    "'''\n",
    "# Find path to PySpark.\n",
    "import findspark\n",
    "findspark.init()\n",
    "\n",
    "# Import PySpark and initialize SparkContext object.\n",
    "import pyspark\n",
    "sc = pyspark.SparkContext.getOrCreate()\n"
   ]
  },
  {
   "cell_type": "code",
   "execution_count": 31,
   "metadata": {},
   "outputs": [],
   "source": [
    "rdd = sc.textFile('atividadespark/city_of_chicago_crimes_2001_to_present.csv')"
   ]
  },
  {
   "cell_type": "code",
   "execution_count": 9,
   "metadata": {},
   "outputs": [
    {
     "data": {
      "text/plain": [
       "6747041"
      ]
     },
     "execution_count": 9,
     "metadata": {},
     "output_type": "execute_result"
    }
   ],
   "source": [
    "count = rdd.count()\n",
    "count"
   ]
  },
  {
   "cell_type": "code",
   "execution_count": 51,
   "metadata": {},
   "outputs": [
    {
     "data": {
      "text/plain": [
       "['ID,Case Number,Date,Block,IUCR,Primary Type,Description,Location Description,Arrest,Domestic,Beat,District,Ward,Community Area,FBI Code,X Coordinate,Y Coordinate,Year,Updated On,Latitude,Longitude,Location',\n",
       " '10000092,HY189866,03/18/2015 07:44:00 PM,047XX W OHIO ST,041A,BATTERY,AGGRAVATED: HANDGUN,STREET,false,false,1111,011,28,25,04B,1144606,1903566,2015,02/10/2018 03:50:01 PM,41.891398861,-87.744384567,\"(41.891398861, -87.744384567)\"',\n",
       " '10000094,HY190059,03/18/2015 11:00:00 PM,066XX S MARSHFIELD AVE,4625,OTHER OFFENSE,PAROLE VIOLATION,STREET,true,false,0725,007,15,67,26,1166468,1860715,2015,02/10/2018 03:50:01 PM,41.773371528,-87.665319468,\"(41.773371528, -87.665319468)\"',\n",
       " '10000095,HY190052,03/18/2015 10:45:00 PM,044XX S LAKE PARK AVE,0486,BATTERY,DOMESTIC BATTERY SIMPLE,APARTMENT,false,true,0222,002,4,39,08B,1185075,1875622,2015,02/10/2018 03:50:01 PM,41.81386068,-87.596642837,\"(41.81386068, -87.596642837)\"']"
      ]
     },
     "execution_count": 51,
     "metadata": {},
     "output_type": "execute_result"
    }
   ],
   "source": [
    "rdd.take(4)"
   ]
  },
  {
   "cell_type": "markdown",
   "metadata": {},
   "source": [
    "## Adaptando o dataset para o do trabalho\n",
    "1. remover o cabeçalho\n",
    "2. extrair campos dia mes e ano manter o Primary Type\n",
    "3. remover os outros campos desnecessários\n",
    "4. Iremos manter os campos indice 5 e criaremos dia mes e ano pois é somente isso que a avaliação pede\n"
   ]
  },
  {
   "cell_type": "code",
   "execution_count": 52,
   "metadata": {},
   "outputs": [],
   "source": [
    "header = rdd.take(1)\n",
    "rdd = rdd.filter(lambda x: False if x[0:2].startswith('ID') else True).map(lambda x: x.split(','))\n",
    "#noheader = rdd.filter(lambda x: False if x[0:2].startswith('ID') else True).map(lambda x: x.split('\\t'))"
   ]
  },
  {
   "cell_type": "code",
   "execution_count": 54,
   "metadata": {},
   "outputs": [],
   "source": [
    "def clean_data(line):\n",
    "    data = line[2].split('/')\n",
    "    dia = data[1]\n",
    "    mes = data[0]\n",
    "    ano = data[2][0:4]\n",
    "    return [dia, mes, ano, line[5]]"
   ]
  },
  {
   "cell_type": "code",
   "execution_count": 55,
   "metadata": {},
   "outputs": [
    {
     "data": {
      "text/plain": [
       "[['18', '03', '2015', 'BATTERY'],\n",
       " ['18', '03', '2015', 'OTHER OFFENSE'],\n",
       " ['18', '03', '2015', 'BATTERY']]"
      ]
     },
     "execution_count": 55,
     "metadata": {},
     "output_type": "execute_result"
    }
   ],
   "source": [
    "#testando nossa função de limpeza\n",
    "rdd.map(clean_data).take(3)"
   ]
  },
  {
   "cell_type": "code",
   "execution_count": 56,
   "metadata": {},
   "outputs": [],
   "source": [
    "#efetivando a transformação\n",
    "rdd_final = rdd.map(clean_data)"
   ]
  },
  {
   "cell_type": "code",
   "execution_count": 59,
   "metadata": {},
   "outputs": [],
   "source": [
    "import matplotlib.pyplot as plt\n",
    "plt.style.use('ggplot')\n",
    "# quantos crimes por ano?\n",
    "dic = rdd_final.map(lambda x: x[2]).countByValue()"
   ]
  },
  {
   "cell_type": "code",
   "execution_count": 69,
   "metadata": {},
   "outputs": [
    {
     "data": {
      "text/plain": [
       "[('2001', 485749),\n",
       " ('2016', 268813),\n",
       " ('2011', 351749),\n",
       " ('2017', 267791),\n",
       " ('2008', 427038),\n",
       " ('2018', 229998),\n",
       " ('2002', 486753),\n",
       " ('2004', 469381),\n",
       " ('2014', 275200),\n",
       " ('2012', 335921),\n",
       " ('2006', 448097),\n",
       " ('2013', 307030),\n",
       " ('2015', 263929),\n",
       " ('2003', 475936),\n",
       " ('2007', 436999),\n",
       " ('2005', 453703),\n",
       " ('2010', 370290),\n",
       " ('2009', 392663)]"
      ]
     },
     "execution_count": 69,
     "metadata": {},
     "output_type": "execute_result"
    }
   ],
   "source": [
    "rdd_final.map(lambda kp: (kp[2], 1)).reduceByKey(lambda k,v: k + v).collect()"
   ]
  },
  {
   "cell_type": "code",
   "execution_count": 67,
   "metadata": {},
   "outputs": [
    {
     "data": {
      "image/png": "[encoded data removed]",
      "text/plain": [
       "<Figure size 432x288 with 1 Axes>"
      ]
     },
     "metadata": {},
     "output_type": "display_data"
    }
   ],
   "source": [
    "lists = sorted(dic.items()) \n",
    "x, y = zip(*lists) \n",
    "plt.xticks(rotation=90)\n",
    "plt.bar(x, y)\n",
    "plt.show()"
   ]
  },
  {
   "cell_type": "code",
   "execution_count": 50,
   "metadata": {},
   "outputs": [
    {
     "data": {
      "text/plain": [
       "['PROSTITUTION',\n",
       " 'WEAPONS VIOLATION',\n",
       " 'HUMAN TRAFFICKING',\n",
       " 'BATTERY',\n",
       " 'PUBLIC PEACE VIOLATION',\n",
       " 'MOTOR VEHICLE THEFT',\n",
       " 'BURGLARY',\n",
       " 'NON - CRIMINAL',\n",
       " 'INTERFERENCE WITH PUBLIC OFFICER',\n",
       " 'THEFT',\n",
       " 'ARSON',\n",
       " 'NON-CRIMINAL (SUBJECT SPECIFIED)',\n",
       " 'SEX OFFENSE',\n",
       " 'CRIMINAL DAMAGE',\n",
       " 'PUBLIC INDECENCY',\n",
       " 'OFFENSE INVOLVING CHILDREN',\n",
       " 'RITUALISM',\n",
       " 'DOMESTIC VIOLENCE',\n",
       " 'CRIMINAL TRESPASS',\n",
       " 'LIQUOR LAW VIOLATION',\n",
       " 'HOMICIDE',\n",
       " 'DECEPTIVE PRACTICE',\n",
       " 'NON-CRIMINAL',\n",
       " 'CONCEALED CARRY LICENSE VIOLATION',\n",
       " 'INTIMIDATION',\n",
       " 'ROBBERY',\n",
       " 'OBSCENITY',\n",
       " 'CRIM SEXUAL ASSAULT',\n",
       " 'OTHER OFFENSE',\n",
       " 'OTHER NARCOTIC VIOLATION',\n",
       " 'NARCOTICS',\n",
       " 'ASSAULT',\n",
       " 'GAMBLING',\n",
       " 'STALKING',\n",
       " 'KIDNAPPING']"
      ]
     },
     "execution_count": 50,
     "metadata": {},
     "output_type": "execute_result"
    }
   ],
   "source": [
    "noheader.map(lambda x: x[5]).distinct().take(35)"
   ]
  }
 ],
 "metadata": {
  "kernelspec": {
   "display_name": "Python 3",
   "language": "python",
   "name": "python3"
  },
  "language_info": {
   "codemirror_mode": {
    "name": "ipython",
    "version": 3
   },
   "file_extension": ".py",
   "mimetype": "text/x-python",
   "name": "python",
   "nbconvert_exporter": "python",
   "pygments_lexer": "ipython3",
   "version": "3.7.3"
  }
 },
 "nbformat": 4,
 "nbformat_minor": 4
}
