{
 "cells": [
  {
   "cell_type": "code",
   "execution_count": 1,
   "metadata": {
    "collapsed": true
   },
   "outputs": [],
   "source": [
    "import pandas as pd\n",
    "import numpy as np\n",
    "import matplotlib.pyplot as plt\n",
    "import seaborn as sns"
   ]
  },
  {
   "cell_type": "markdown",
   "metadata": {},
   "source": [
    "## Lendo janeiro até dezembro(11)"
   ]
  },
  {
   "cell_type": "code",
   "execution_count": 110,
   "metadata": {
    "collapsed": true
   },
   "outputs": [],
   "source": [
    "dirtydata = pd.read_excel('giu.xls')"
   ]
  },
  {
   "cell_type": "code",
   "execution_count": 112,
   "metadata": {
    "scrolled": true
   },
   "outputs": [
    {
     "data": {
      "text/html": [
       "<div>\n",
       "<style scoped>\n",
       "    .dataframe tbody tr th:only-of-type {\n",
       "        vertical-align: middle;\n",
       "    }\n",
       "\n",
       "    .dataframe tbody tr th {\n",
       "        vertical-align: top;\n",
       "    }\n",
       "\n",
       "    .dataframe thead th {\n",
       "        text-align: right;\n",
       "    }\n",
       "</style>\n",
       "<table border=\"1\" class=\"dataframe\">\n",
       "  <thead>\n",
       "    <tr style=\"text-align: right;\">\n",
       "      <th></th>\n",
       "      <th>data</th>\n",
       "      <th>historico</th>\n",
       "      <th>doc</th>\n",
       "      <th>credito</th>\n",
       "      <th>debito</th>\n",
       "      <th>saldo</th>\n",
       "      <th>tipogasto</th>\n",
       "    </tr>\n",
       "  </thead>\n",
       "  <tbody>\n",
       "    <tr>\n",
       "      <th>0</th>\n",
       "      <td>28/12/17</td>\n",
       "      <td>SALDO ANTERIOR</td>\n",
       "      <td>NaN</td>\n",
       "      <td>NaN</td>\n",
       "      <td>NaN</td>\n",
       "      <td>15109.85</td>\n",
       "      <td></td>\n",
       "    </tr>\n",
       "    <tr>\n",
       "      <th>1</th>\n",
       "      <td>02/01/18</td>\n",
       "      <td>Saque c/c Bdn</td>\n",
       "      <td>8416470.0</td>\n",
       "      <td>NaN</td>\n",
       "      <td>-40.0</td>\n",
       "      <td>15069.85</td>\n",
       "      <td></td>\n",
       "    </tr>\n",
       "    <tr>\n",
       "      <th>2</th>\n",
       "      <td>NaN</td>\n",
       "      <td>Ag01276maq018416seq0447029121402</td>\n",
       "      <td>NaN</td>\n",
       "      <td>NaN</td>\n",
       "      <td>NaN</td>\n",
       "      <td>NaN</td>\n",
       "      <td></td>\n",
       "    </tr>\n",
       "    <tr>\n",
       "      <th>3</th>\n",
       "      <td>02/01/18</td>\n",
       "      <td>Pagto Cobranca</td>\n",
       "      <td>104.0</td>\n",
       "      <td>NaN</td>\n",
       "      <td>-1050.0</td>\n",
       "      <td>NaN</td>\n",
       "      <td></td>\n",
       "    </tr>\n",
       "    <tr>\n",
       "      <th>4</th>\n",
       "      <td>NaN</td>\n",
       "      <td>Cartao Caixa</td>\n",
       "      <td>NaN</td>\n",
       "      <td>NaN</td>\n",
       "      <td>NaN</td>\n",
       "      <td>NaN</td>\n",
       "      <td></td>\n",
       "    </tr>\n",
       "  </tbody>\n",
       "</table>\n",
       "</div>"
      ],
      "text/plain": [
       "       data                         historico        doc  credito  debito  \\\n",
       "0  28/12/17                    SALDO ANTERIOR        NaN      NaN     NaN   \n",
       "1  02/01/18                     Saque c/c Bdn  8416470.0      NaN   -40.0   \n",
       "2       NaN  Ag01276maq018416seq0447029121402        NaN      NaN     NaN   \n",
       "3  02/01/18                    Pagto Cobranca      104.0      NaN -1050.0   \n",
       "4       NaN                      Cartao Caixa        NaN      NaN     NaN   \n",
       "\n",
       "      saldo tipogasto  \n",
       "0  15109.85            \n",
       "1  15069.85            \n",
       "2       NaN            \n",
       "3       NaN            \n",
       "4       NaN            "
      ]
     },
     "execution_count": 112,
     "metadata": {},
     "output_type": "execute_result"
    }
   ],
   "source": [
    "dirtydata['tipogasto'] = ''\n",
    "dirtydata.head()"
   ]
  },
  {
   "cell_type": "markdown",
   "metadata": {},
   "source": [
    "### Precisamos tratar trazer o tipo de gasto para uma coluna acima"
   ]
  },
  {
   "cell_type": "code",
   "execution_count": 113,
   "metadata": {},
   "outputs": [],
   "source": [
    "for index, row in dirtydata.iterrows():\n",
    "    if row['data'] is not np.NaN:\n",
    "        dirtydata.loc[index,['tipogasto']] = dirtydata['historico'].loc[index+1]"
   ]
  },
  {
   "cell_type": "code",
   "execution_count": 114,
   "metadata": {},
   "outputs": [],
   "source": [
    "finaldata = dirtydata[np.isfinite(dirtydata['debito'])][['data','tipogasto', 'historico','debito']]"
   ]
  },
  {
   "cell_type": "code",
   "execution_count": 115,
   "metadata": {
    "collapsed": true
   },
   "outputs": [],
   "source": [
    "### Transformando o débito em valor positivo\n",
    "finaldata.debito = -finaldata.debito"
   ]
  },
  {
   "cell_type": "markdown",
   "metadata": {},
   "source": [
    "## Estatísticas dos gastos"
   ]
  },
  {
   "cell_type": "code",
   "execution_count": 116,
   "metadata": {},
   "outputs": [
    {
     "data": {
      "text/html": [
       "<div>\n",
       "<style scoped>\n",
       "    .dataframe tbody tr th:only-of-type {\n",
       "        vertical-align: middle;\n",
       "    }\n",
       "\n",
       "    .dataframe tbody tr th {\n",
       "        vertical-align: top;\n",
       "    }\n",
       "\n",
       "    .dataframe thead th {\n",
       "        text-align: right;\n",
       "    }\n",
       "</style>\n",
       "<table border=\"1\" class=\"dataframe\">\n",
       "  <thead>\n",
       "    <tr style=\"text-align: right;\">\n",
       "      <th></th>\n",
       "      <th>debito</th>\n",
       "    </tr>\n",
       "  </thead>\n",
       "  <tbody>\n",
       "    <tr>\n",
       "      <th>count</th>\n",
       "      <td>1578.000000</td>\n",
       "    </tr>\n",
       "    <tr>\n",
       "      <th>mean</th>\n",
       "      <td>82.166584</td>\n",
       "    </tr>\n",
       "    <tr>\n",
       "      <th>std</th>\n",
       "      <td>418.426704</td>\n",
       "    </tr>\n",
       "    <tr>\n",
       "      <th>min</th>\n",
       "      <td>0.020000</td>\n",
       "    </tr>\n",
       "    <tr>\n",
       "      <th>25%</th>\n",
       "      <td>11.990000</td>\n",
       "    </tr>\n",
       "    <tr>\n",
       "      <th>50%</th>\n",
       "      <td>27.750000</td>\n",
       "    </tr>\n",
       "    <tr>\n",
       "      <th>75%</th>\n",
       "      <td>52.000000</td>\n",
       "    </tr>\n",
       "    <tr>\n",
       "      <th>max</th>\n",
       "      <td>10050.000000</td>\n",
       "    </tr>\n",
       "  </tbody>\n",
       "</table>\n",
       "</div>"
      ],
      "text/plain": [
       "             debito\n",
       "count   1578.000000\n",
       "mean      82.166584\n",
       "std      418.426704\n",
       "min        0.020000\n",
       "25%       11.990000\n",
       "50%       27.750000\n",
       "75%       52.000000\n",
       "max    10050.000000"
      ]
     },
     "execution_count": 116,
     "metadata": {},
     "output_type": "execute_result"
    }
   ],
   "source": [
    "finaldata.describe()"
   ]
  },
  {
   "cell_type": "code",
   "execution_count": 117,
   "metadata": {
    "collapsed": true
   },
   "outputs": [],
   "source": [
    "## Quais foram os maiores gastos?"
   ]
  },
  {
   "cell_type": "markdown",
   "metadata": {},
   "source": [
    "### Categorizando supermercados(Deli delicia, mercado bambina, Zona sul)"
   ]
  },
  {
   "cell_type": "code",
   "execution_count": 118,
   "metadata": {},
   "outputs": [],
   "source": [
    "mercados = 'zona|deli|merc|supermer'\n",
    "finaldata['categoria'] = np.where(finaldata['tipogasto'].str.contains(mercados,case=False),'supermercado','outros')"
   ]
  },
  {
   "cell_type": "code",
   "execution_count": 119,
   "metadata": {},
   "outputs": [],
   "source": [
    "#tranformando data em data\n",
    "import datetime\n",
    "finaldata['data'] = finaldata['data'].map(lambda x: datetime.datetime.strptime( x, '%d/%m/%y' ))\n",
    "#pd.to_datetime(finaldata['data'], format='%d/%m/%Y')"
   ]
  },
  {
   "cell_type": "code",
   "execution_count": 120,
   "metadata": {},
   "outputs": [],
   "source": [
    "#Criando uma coluna para mes \n",
    "meses = {1: 'jan', 2: 'fev', 3: 'mar', 4: 'abr',\n",
    "        5:'mai', 6:'jun', 7:'jul', 8:'ago',9:'set',\n",
    "         10:'out', 11:'nov',12:'dez'}\n",
    "finaldata['mes_nomes'] = finaldata['data'].map(lambda x: x.month).map(meses)"
   ]
  },
  {
   "cell_type": "code",
   "execution_count": 121,
   "metadata": {},
   "outputs": [],
   "source": [
    "# recuperando dados de apenas supermercados\n",
    "superdf = finaldata[finaldata['categoria'] == 'supermercado']"
   ]
  },
  {
   "cell_type": "code",
   "execution_count": 122,
   "metadata": {},
   "outputs": [
    {
     "data": {
      "text/plain": [
       "<matplotlib.axes._subplots.AxesSubplot at 0x1a0498f8518>"
      ]
     },
     "execution_count": 122,
     "metadata": {},
     "output_type": "execute_result"
    },
    {
     "data": {
      "image/png": "[encoded data removed]",
      "text/plain": [
       "<Figure size 432x288 with 1 Axes>"
      ]
     },
     "metadata": {
      "needs_background": "light"
     },
     "output_type": "display_data"
    }
   ],
   "source": [
    "sns.barplot(x=\"mes_nomes\", y=\"debito\", data=superdf, estimator=sum)"
   ]
  },
  {
   "cell_type": "code",
   "execution_count": 123,
   "metadata": {},
   "outputs": [],
   "source": [
    "superdf = superdf.set_index(['data'])"
   ]
  },
  {
   "cell_type": "code",
   "execution_count": 124,
   "metadata": {},
   "outputs": [
    {
     "data": {
      "text/plain": [
       "tipogasto\n",
       "Candy Delicatesse         18.34\n",
       "Deli Delicia               6.18\n",
       "Deli Delicia Generos    3641.00\n",
       "Dfa Brasil Comercio       28.40\n",
       "Mercadinho Bambina      1256.46\n",
       "Mercadopago              146.61\n",
       "Pocaje Mercearia          23.00\n",
       "Supermerc Princesa       235.78\n",
       "Vossa Mercearia          255.02\n",
       "Vossa Mercearia Ltda    1517.30\n",
       "Zona Sul Pizzaria         51.40\n",
       "Zona Sul fl 1020        1199.83\n",
       "Zona Sul fl 20          7005.05\n",
       "Zona Sul fl 39           372.56\n",
       "Name: debito, dtype: float64"
      ]
     },
     "execution_count": 124,
     "metadata": {},
     "output_type": "execute_result"
    }
   ],
   "source": [
    "superdf.groupby(['tipogasto']).sum()['debito']\n",
    "#superdf.groupby(['tipogasto']).sum()['debito'].unstack().nlargest(10, 'debito')"
   ]
  },
  {
   "cell_type": "markdown",
   "metadata": {},
   "source": [
    "## TOTAL DE GASTO DE JANEIRO A NOVEMBRO"
   ]
  },
  {
   "cell_type": "code",
   "execution_count": 125,
   "metadata": {},
   "outputs": [
    {
     "data": {
      "text/plain": [
       "15756.929999999998"
      ]
     },
     "execution_count": 125,
     "metadata": {},
     "output_type": "execute_result"
    }
   ],
   "source": [
    "superdf.debito.sum()"
   ]
  },
  {
   "cell_type": "code",
   "execution_count": 126,
   "metadata": {},
   "outputs": [
    {
     "data": {
      "text/plain": [
       "Text(0.5, 1.0, 'Máximas')"
      ]
     },
     "execution_count": 126,
     "metadata": {},
     "output_type": "execute_result"
    },
    {
     "data": {
      "image/png": "[encoded data removed]",
      "text/plain": [
       "<Figure size 1872x720 with 3 Axes>"
      ]
     },
     "metadata": {
      "needs_background": "light"
     },
     "output_type": "display_data"
    }
   ],
   "source": [
    "my_colors = [(x/10.0, x/20.0, 0.75) for x in range(10)]\n",
    "spmean = superdf.groupby(['tipogasto']).describe().unstack().loc['debito']['mean'].reset_index() #.plot.barh( stacked=True, colormap='Paired')\n",
    "spstd = superdf.groupby(['tipogasto']).describe().unstack().loc['debito']['std'].reset_index()\n",
    "spmax = superdf.groupby(['tipogasto']).describe().unstack().loc['debito']['max'].reset_index()\n",
    "\n",
    "fig, (ax1, ax2, ax3) = plt.subplots(1, 3, figsize=(26,10))\n",
    "#spmean.plot(x = spmean.tipogasto, y=spmean[spmean.columns.values[1]], kind='barh', colormap='magma', ax=ax1)\n",
    "sns.barplot(x =spmean[spmean.columns.values[1]] , y=spmean.tipogasto, ax=ax1, orient='h').set_title('Médias') \n",
    "sns.barplot(y = spstd.tipogasto, x=spstd[spstd.columns.values[1]], ax=ax2, orient='h').set_title('Desvio Padrão') \n",
    "sns.barplot(y = spmax.tipogasto, x=spmax[spmax.columns.values[1]], ax=ax3, orient='h').set_title('Máximas')  \n"
   ]
  },
  {
   "cell_type": "code",
   "execution_count": null,
   "metadata": {},
   "outputs": [],
   "source": [
    "#mapeando saques\n",
    "finaldata.tipogasto = finaldata.tipogasto.map(lambda x: 'saque' if str(x).startswith('Ag0') else x)\n",
    "finaldata.tipogasto = finaldata.tipogasto.map(lambda x: 'saque' if str(x).startswith('000') else x)\n",
    "#mapeando "
   ]
  },
  {
   "cell_type": "markdown",
   "metadata": {},
   "source": [
    "### Quanto forams os gastos totais divididos em supermercado etc...?"
   ]
  },
  {
   "cell_type": "code",
   "execution_count": null,
   "metadata": {},
   "outputs": [],
   "source": [
    " finaldata.groupby(['categoria']).sum()['debito']\n",
    "#plt.show()\n",
    "#.nlargest(10, 'debito').plot()"
   ]
  },
  {
   "cell_type": "markdown",
   "metadata": {},
   "source": [
    "# Apenas de 2018 nos meses janeiro a novembro gastei 15000 reais... Vamos vizualizar isso"
   ]
  },
  {
   "cell_type": "code",
   "execution_count": null,
   "metadata": {},
   "outputs": [],
   "source": [
    "sns.barplot(x=\"categoria\", y=\"debito\", data=finaldata, estimator=sum)\n",
    "plt.show()"
   ]
  },
  {
   "cell_type": "code",
   "execution_count": null,
   "metadata": {},
   "outputs": [],
   "source": [
    "fig, axs = plt.subplots(1,2,figsize=(15,6))\n",
    "sns.barplot(x=\"mes\", y=\"debito\", data=finaldata, estimator=sum, ax=axs[0])\n",
    "sns.barplot(x=\"mes\", y=\"debito\", data=finaldata[finaldata['categoria'] == 'supermercado'], estimator=sum, ax=axs[1])\n",
    "fig"
   ]
  },
  {
   "cell_type": "markdown",
   "metadata": {},
   "source": [
    "### Setando o index a data"
   ]
  },
  {
   "cell_type": "code",
   "execution_count": null,
   "metadata": {
    "collapsed": true
   },
   "outputs": [],
   "source": [
    "final = finaldata.set_index(['data'])"
   ]
  },
  {
   "cell_type": "code",
   "execution_count": null,
   "metadata": {},
   "outputs": [],
   "source": [
    "final[final['categoria'] == 'supermercado'].groupby(['mes']).sum().unstack().plot.bar()\n",
    "#final.groupby([pd.Grouper(freq='M'),'categoria']).size().plot.bar()\n",
    "#final.groupby([pd.Grouper(freq='M'),'categoria']).sum()['debito'].unstack().plot.bar()\n",
    "#sns.barplot(final['mes'], final[])\n",
    "plt.show()\n"
   ]
  },
  {
   "cell_type": "code",
   "execution_count": null,
   "metadata": {},
   "outputs": [],
   "source": [
    "finaldata.plot(x='categoria', y='debito')\n",
    "plt.show()"
   ]
  },
  {
   "cell_type": "code",
   "execution_count": null,
   "metadata": {
    "collapsed": true
   },
   "outputs": [],
   "source": [
    "def bogo_bubble(blist):\n",
    "    cmpcount, swapcount = 0, 0\n",
    "    n = 0\n",
    "    while n < len(blist) - 1:\n",
    "        cmpcount += 1\n",
    "        if blist[n] > blist[n + 1]:\n",
    "            swapcount += 1\n",
    "            blist[n], blist[n+1] = blist[n+1], blist[n]\n",
    "            n = 0\n",
    "        else:\n",
    "            n = n + 1\n",
    "    return blist, cmpcount, swapcount\n"
   ]
  },
  {
   "cell_type": "code",
   "execution_count": null,
   "metadata": {
    "collapsed": true
   },
   "outputs": [],
   "source": []
  },
  {
   "cell_type": "code",
   "execution_count": null,
   "metadata": {
    "collapsed": true
   },
   "outputs": [],
   "source": [
    "def wp1_bubble(blist):\n",
    "    cmpcount, swapcount = 0, 0\n",
    "    while True:\n",
    "        swapped = False\n",
    "        for i in range(1, len(blist)):\n",
    "            cmpcount += 1\n",
    "            if blist[i-1] > blist[i]:\n",
    "                swapcount += 1\n",
    "                blist[i-1], blist[i] = blist[i], blist[i-1]\n",
    "                swapped = True\n",
    "        if not swapped:\n",
    "            break\n",
    "    return blist, cmpcount, swapcount"
   ]
  },
  {
   "cell_type": "code",
   "execution_count": null,
   "metadata": {},
   "outputs": [],
   "source": [
    "def wp2_bubble(blist):\n",
    "    cmpcount, swapcount = 0, 0\n",
    "    n = len(blist)\n",
    "    while True:\n",
    "        swapped = False\n",
    "        for i in range(1, n):\n",
    "            cmpcount += 1\n",
    "            if blist[i-1] > blist[i]:\n",
    "                swapcount += 1\n",
    "                blist[i-1], blist[i] = blist[i], blist[i-1]\n",
    "                swapped = True\n",
    "        n -= 1\n",
    "        if not swapped:\n",
    "            break\n",
    "    return blist, cmpcount, swapcount\n",
    "\n",
    "import random\n",
    "alist = [random.randrange(100) for _ in range(100)]\n",
    "bb, cb, sb = bogo_bubble(alist[:])\n",
    "b1, c1, s1 = wp1_bubble(alist[:])\n",
    "b2, c2, s2 = wp2_bubble(alist[:])\n",
    "assert bb == b1 == b2\n",
    "print('bogo_bubble: {} cmp, {} swap'.format(cb, sb))\n",
    "print('wp1_bubble : {} cmp, {} swap'.format(c1, s1))\n",
    "print('wp2_bubble : {} cmp, {} swap'.format(c2, s2))"
   ]
  }
 ],
 "metadata": {
  "kernelspec": {
   "display_name": "Python 3",
   "language": "python",
   "name": "python3"
  },
  "language_info": {
   "codemirror_mode": {
    "name": "ipython",
    "version": 3
   },
   "file_extension": ".py",
   "mimetype": "text/x-python",
   "name": "python",
   "nbconvert_exporter": "python",
   "pygments_lexer": "ipython3",
   "version": "3.7.3"
  }
 },
 "nbformat": 4,
 "nbformat_minor": 2
}
