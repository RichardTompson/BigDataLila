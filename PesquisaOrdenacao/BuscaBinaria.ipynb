{
 "cells": [
  {
   "cell_type": "code",
   "execution_count": 4,
   "metadata": {},
   "outputs": [],
   "source": [
    "import random"
   ]
  },
  {
   "cell_type": "code",
   "execution_count": 7,
   "metadata": {},
   "outputs": [],
   "source": [
    "def b_search(arr,value, is_sorted=True):\n",
    "    \n",
    "    if not is_sorted:\n",
    "        arr = sorted(arr)\n",
    "    \n",
    "    first = 0\n",
    "    last = len(arr) - 1\n",
    "    found = False\n",
    "    while first <= last and not found:\n",
    "        mid = (first+last)//2 \n",
    "        if arr[mid] == value:\n",
    "            found = True\n",
    "        else:\n",
    "            if value < arr[mid]:\n",
    "                last = mid -1\n",
    "            else:\n",
    "                first = mid + 1\n",
    "                \n",
    "    return found"
   ]
  },
  {
   "cell_type": "code",
   "execution_count": 8,
   "metadata": {},
   "outputs": [
    {
     "name": "stdout",
     "output_type": "stream",
     "text": [
      "True\n",
      "False\n",
      "True\n"
     ]
    }
   ],
   "source": [
    "arr = [1,2,3,4,5,6,7,8,9,10]\n",
    "print(b_search(arr,8))\n",
    "print(b_search(arr,30))\n",
    "arr = random.sample(range(1000), 1000)\n",
    "print(b_search(arr,989,False))"
   ]
  },
  {
   "cell_type": "code",
   "execution_count": 15,
   "metadata": {},
   "outputs": [
    {
     "name": "stdout",
     "output_type": "stream",
     "text": [
      "True\n",
      "False\n"
     ]
    }
   ],
   "source": [
    "def s_search(arr, value):\n",
    "    for i in range(len(arr)):\n",
    "        if arr[i] == value:\n",
    "            return True\n",
    "    return False\n",
    "arr = [1,2,3,4,5,6,7,8,9,10]\n",
    "print(s_search(arr,10))\n",
    "print(s_search(arr,11))"
   ]
  }
 ],
 "metadata": {
  "kernelspec": {
   "display_name": "Python 3",
   "language": "python",
   "name": "python3"
  },
  "language_info": {
   "codemirror_mode": {
    "name": "ipython",
    "version": 3
   },
   "file_extension": ".py",
   "mimetype": "text/x-python",
   "name": "python",
   "nbconvert_exporter": "python",
   "pygments_lexer": "ipython3",
   "version": "3.7.3"
  }
 },
 "nbformat": 4,
 "nbformat_minor": 2
}
