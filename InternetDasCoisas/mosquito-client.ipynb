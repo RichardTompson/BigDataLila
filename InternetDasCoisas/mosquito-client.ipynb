{
 "cells": [
  {
   "cell_type": "code",
   "execution_count": 1,
   "metadata": {},
   "outputs": [],
   "source": [
    "import paho.mqtt.client as mqtt # importa o pacote mqtt"
   ]
  },
  {
   "cell_type": "code",
   "execution_count": 13,
   "metadata": {},
   "outputs": [
    {
     "name": "stdout",
     "output_type": "stream",
     "text": [
      "[MSG RECEBIDA] Topico: PUCPR/IA / Mensagem: b'primeira mensagem2 !!'\n",
      "[MSG RECEBIDA] Topico: PUCPR/IA / Mensagem: b'Giuliano \\xc3\\xa9 lindo !!'\n",
      "[MSG RECEBIDA] Topico: PUCPR/IA / Mensagem: b'alo alo chacrinha!!'\n"
     ]
    }
   ],
   "source": [
    "broker = \"test.mosquitto.org\" # define o host do broker mqtt'\n",
    "port = 1883 # define a porta do broker\n",
    "keppAlive = 60 # define o keepAlive da conexao\n",
    "def on_message(client, userdata, msg):\n",
    "    message = str(msg.payload) # converte a mensagem recebida\n",
    "    print(\"[MSG RECEBIDA] Topico: \"+msg.topic+\" / Mensagem: \"+ message) # imprime no console a mensagem\n",
    "    \n",
    "topic = 'PUCPR/IA' # define o topico que este script assinara\n",
    "client= mqtt.Client(\"client-003\")\n",
    "client.on_message = on_message\n",
    "client.connect(broker, port, keppAlive) # inicia a conexao\n",
    "client.subscribe(topic)\n",
    "client.loop_start() # a conexao mqtt entra\n",
    "\n"
   ]
  },
  {
   "cell_type": "code",
   "execution_count": 5,
   "metadata": {},
   "outputs": [
    {
     "data": {
      "text/plain": [
       "<paho.mqtt.client.MQTTMessageInfo at 0x154d96dbe08>"
      ]
     },
     "execution_count": 5,
     "metadata": {},
     "output_type": "execute_result"
    }
   ],
   "source": [
    "\n"
   ]
  },
  {
   "cell_type": "code",
   "execution_count": 14,
   "metadata": {},
   "outputs": [
    {
     "data": {
      "text/plain": [
       "0"
      ]
     },
     "execution_count": 14,
     "metadata": {},
     "output_type": "execute_result"
    }
   ],
   "source": [
    "client.loop_stop()\n",
    "client.disconnect()"
   ]
  }
 ],
 "metadata": {
  "kernelspec": {
   "display_name": "Python 3",
   "language": "python",
   "name": "python3"
  },
  "language_info": {
   "codemirror_mode": {
    "name": "ipython",
    "version": 3
   },
   "file_extension": ".py",
   "mimetype": "text/x-python",
   "name": "python",
   "nbconvert_exporter": "python",
   "pygments_lexer": "ipython3",
   "version": "3.7.1"
  }
 },
 "nbformat": 4,
 "nbformat_minor": 2
}
