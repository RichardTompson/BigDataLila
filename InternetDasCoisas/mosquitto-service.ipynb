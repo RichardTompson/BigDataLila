{
 "cells": [
  {
   "cell_type": "code",
   "execution_count": 2,
   "metadata": {},
   "outputs": [],
   "source": [
    "import paho.mqtt.client as mqtt # importa o pacote mqtt"
   ]
  },
  {
   "cell_type": "code",
   "execution_count": 11,
   "metadata": {},
   "outputs": [
    {
     "name": "stdout",
     "output_type": "stream",
     "text": [
      "[STATUS] Inicializando MQTT...\n",
      "[STATUS] Conectado ao Broker. Resultado de conexao: 0\n"
     ]
    }
   ],
   "source": [
    "\n",
    "broker = \"test.mosquitto.org\" # define o host do broker mqtt'\n",
    "port = 1883 # define a porta do broker\n",
    "keppAlive = 60 # define o keepAlive da conexao\n",
    "topic = 'PUCPR/IA' # define o topico que este script assinara\n",
    "\n",
    "\n",
    "# funcao on_connect sera atribuida e chamada quando a conexao for iniciada\n",
    "# ela printara na tela caso tudo ocorra certo durante a tentativa de conexao\n",
    "# tambem ira assina o topico que foi declarado acima\n",
    "def on_connect(client, userdata, flags, rc):\n",
    "    print(\"[STATUS] Conectado ao Broker. Resultado de conexao: \"+str(rc))\n",
    "\n",
    "    client.subscribe(topic)\n",
    "\n",
    "# possui o mesmo cenario que o on_connect, porem, ela sera atrelada ao loop\n",
    "# do script, pois toda vez que receber uma nova mensagem do topico assinado, ela sera invocada\n",
    "def on_message(client, userdata, msg):\n",
    "\n",
    "    message = str(msg.payload) # converte a mensagem recebida\n",
    "    print(\"[MSG RECEBIDA] Topico: \"+msg.topic+\" / Mensagem: \"+ message) # imprime no console a mensagem\n",
    "\n",
    "    # testara se o topico desta mensagem sera igual ao topico que queremos, que neste caso remete ao led\n",
    "    #if msg.topic == 'DZ/rasp/led':\n",
    "\n",
    "        # basicamente nessa condicional testara se o valor recebido sera 1, sendo 1 acende o led\n",
    "        # e, caso receber qualquer outra coisa, apagara o led\n",
    "        #if(message == '1'):\n",
    "            #GPIO.output(ledPin, GPIO.HIGH)\n",
    "        #else:\n",
    "            #GPIO.output(ledPin, GPIO.LOW)\n",
    "\n",
    "try:\n",
    "    print(\"[STATUS] Inicializando MQTT...\")\n",
    "    client = mqtt.Client() # instancia a conexao\n",
    "    client.on_connect = on_connect # define o callback do evento on_connect\n",
    "    client.on_message = on_message # define o callback do evento on_message\n",
    "\n",
    "    client.connect(broker, port, keppAlive) # inicia a conexao\n",
    "    client.loop_start() # a conexao mqtt entrara em loop ou seja, ficara escutando e processando todas mensagens recebidas\n",
    "\n",
    "except KeyboardInterrupt:\n",
    "    print (\"\\nScript finalizado.\")\n",
    "    client.loop()\n",
    "    client.disconnect()"
   ]
  },
  {
   "cell_type": "code",
   "execution_count": 16,
   "metadata": {},
   "outputs": [
    {
     "data": {
      "text/plain": [
       "<paho.mqtt.client.MQTTMessageInfo at 0x1c6a05e6cc8>"
      ]
     },
     "execution_count": 16,
     "metadata": {},
     "output_type": "execute_result"
    },
    {
     "name": "stdout",
     "output_type": "stream",
     "text": [
      "[MSG RECEBIDA] Topico: PUCPR/IA / Mensagem: b'alo alo chacrinha!!'\n"
     ]
    }
   ],
   "source": [
    "client.publish(\"PUCPR/IA\",\"alo alo chacrinha!!\")"
   ]
  },
  {
   "cell_type": "code",
   "execution_count": 8,
   "metadata": {},
   "outputs": [
    {
     "data": {
      "text/plain": [
       "0"
      ]
     },
     "execution_count": 8,
     "metadata": {},
     "output_type": "execute_result"
    }
   ],
   "source": [
    "client.loop_stop()\n",
    "client.disconnect()"
   ]
  }
 ],
 "metadata": {
  "kernelspec": {
   "display_name": "Python 3",
   "language": "python",
   "name": "python3"
  },
  "language_info": {
   "codemirror_mode": {
    "name": "ipython",
    "version": 3
   },
   "file_extension": ".py",
   "mimetype": "text/x-python",
   "name": "python",
   "nbconvert_exporter": "python",
   "pygments_lexer": "ipython3",
   "version": "3.7.1"
  }
 },
 "nbformat": 4,
 "nbformat_minor": 2
}
