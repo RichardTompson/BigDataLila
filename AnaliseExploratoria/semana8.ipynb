{
 "cells": [
  {
   "cell_type": "code",
   "execution_count": 1,
   "metadata": {},
   "outputs": [],
   "source": [
    "import pandas as pd\n",
    "from sklearn.feature_selection import SelectKBest, chi2\n",
    "from sklearn.feature_selection import VarianceThreshold\n",
    "from sklearn.model_selection import train_test_split\n",
    "from sklearn.tree import DecisionTreeClassifier\n",
    "from sklearn.metrics import classification_report"
   ]
  },
  {
   "cell_type": "markdown",
   "metadata": {},
   "source": [
    "## Após importar as bibliotecas, vamos ler a base de dados e mudar o atributo 'sex' para a ultima posição, mudando a tarefa de regressão para classificação"
   ]
  },
  {
   "cell_type": "code",
   "execution_count": 6,
   "metadata": {},
   "outputs": [],
   "source": [
    "df = pd.read_csv(\"regression_normalized.csv\")\n",
    "df = df.reindex(columns=['age', 'bmi', 'children', 'smoker', 'region', 'charges', 'sex'])"
   ]
  },
  {
   "cell_type": "code",
   "execution_count": 7,
   "metadata": {},
   "outputs": [
    {
     "data": {
      "text/html": [
       "<div>\n",
       "<style scoped>\n",
       "    .dataframe tbody tr th:only-of-type {\n",
       "        vertical-align: middle;\n",
       "    }\n",
       "\n",
       "    .dataframe tbody tr th {\n",
       "        vertical-align: top;\n",
       "    }\n",
       "\n",
       "    .dataframe thead th {\n",
       "        text-align: right;\n",
       "    }\n",
       "</style>\n",
       "<table border=\"1\" class=\"dataframe\">\n",
       "  <thead>\n",
       "    <tr style=\"text-align: right;\">\n",
       "      <th></th>\n",
       "      <th>age</th>\n",
       "      <th>bmi</th>\n",
       "      <th>children</th>\n",
       "      <th>smoker</th>\n",
       "      <th>region</th>\n",
       "      <th>charges</th>\n",
       "      <th>sex</th>\n",
       "    </tr>\n",
       "  </thead>\n",
       "  <tbody>\n",
       "    <tr>\n",
       "      <td>0</td>\n",
       "      <td>0.021739</td>\n",
       "      <td>0.321227</td>\n",
       "      <td>0.0</td>\n",
       "      <td>1.0</td>\n",
       "      <td>1.000000</td>\n",
       "      <td>0.251611</td>\n",
       "      <td>0.0</td>\n",
       "    </tr>\n",
       "    <tr>\n",
       "      <td>1</td>\n",
       "      <td>0.000000</td>\n",
       "      <td>0.479150</td>\n",
       "      <td>0.2</td>\n",
       "      <td>0.0</td>\n",
       "      <td>0.666667</td>\n",
       "      <td>0.009636</td>\n",
       "      <td>1.0</td>\n",
       "    </tr>\n",
       "    <tr>\n",
       "      <td>2</td>\n",
       "      <td>0.217391</td>\n",
       "      <td>0.458434</td>\n",
       "      <td>0.6</td>\n",
       "      <td>0.0</td>\n",
       "      <td>0.666667</td>\n",
       "      <td>0.053115</td>\n",
       "      <td>1.0</td>\n",
       "    </tr>\n",
       "    <tr>\n",
       "      <td>3</td>\n",
       "      <td>0.326087</td>\n",
       "      <td>0.181464</td>\n",
       "      <td>0.0</td>\n",
       "      <td>0.0</td>\n",
       "      <td>0.333333</td>\n",
       "      <td>0.333010</td>\n",
       "      <td>1.0</td>\n",
       "    </tr>\n",
       "    <tr>\n",
       "      <td>4</td>\n",
       "      <td>0.304348</td>\n",
       "      <td>0.347592</td>\n",
       "      <td>0.0</td>\n",
       "      <td>0.0</td>\n",
       "      <td>0.333333</td>\n",
       "      <td>0.043816</td>\n",
       "      <td>1.0</td>\n",
       "    </tr>\n",
       "  </tbody>\n",
       "</table>\n",
       "</div>"
      ],
      "text/plain": [
       "        age       bmi  children  smoker    region   charges  sex\n",
       "0  0.021739  0.321227       0.0     1.0  1.000000  0.251611  0.0\n",
       "1  0.000000  0.479150       0.2     0.0  0.666667  0.009636  1.0\n",
       "2  0.217391  0.458434       0.6     0.0  0.666667  0.053115  1.0\n",
       "3  0.326087  0.181464       0.0     0.0  0.333333  0.333010  1.0\n",
       "4  0.304348  0.347592       0.0     0.0  0.333333  0.043816  1.0"
      ]
     },
     "execution_count": 7,
     "metadata": {},
     "output_type": "execute_result"
    }
   ],
   "source": [
    "df.head()"
   ]
  },
  {
   "cell_type": "code",
   "execution_count": 8,
   "metadata": {},
   "outputs": [],
   "source": [
    "X_, y_ = df.iloc[:,:-1], df.iloc[:, -1]"
   ]
  },
  {
   "cell_type": "code",
   "execution_count": 9,
   "metadata": {},
   "outputs": [
    {
     "name": "stdout",
     "output_type": "stream",
     "text": [
      "(1338, 7)\n"
     ]
    }
   ],
   "source": [
    "print(df.shape)"
   ]
  },
  {
   "cell_type": "markdown",
   "metadata": {},
   "source": [
    "## Agora vamos testar um classificador para estipular um baseline"
   ]
  },
  {
   "cell_type": "code",
   "execution_count": 10,
   "metadata": {},
   "outputs": [
    {
     "name": "stdout",
     "output_type": "stream",
     "text": [
      "Resultado sem redução de dimensionalidade:\n",
      "              precision    recall  f1-score   support\n",
      "\n",
      "         0.0       0.63      0.59      0.61       205\n",
      "         1.0       0.60      0.64      0.62       197\n",
      "\n",
      "    accuracy                           0.61       402\n",
      "   macro avg       0.61      0.61      0.61       402\n",
      "weighted avg       0.61      0.61      0.61       402\n",
      "\n"
     ]
    }
   ],
   "source": [
    "X_train, X_test, y_train, y_test = train_test_split(X_, y_, test_size=0.3, random_state=1)\n",
    "clf = DecisionTreeClassifier()\n",
    "clf.fit(X_train, y_train)\n",
    "y_pred = clf.predict(X_test)\n",
    "print('Resultado sem redução de dimensionalidade:')\n",
    "print(classification_report(y_test, y_pred))"
   ]
  },
  {
   "cell_type": "markdown",
   "metadata": {},
   "source": [
    "## Primeiramente vamos reduzir a dimensão por variância"
   ]
  },
  {
   "cell_type": "code",
   "execution_count": 11,
   "metadata": {},
   "outputs": [
    {
     "name": "stdout",
     "output_type": "stream",
     "text": [
      "(1338, 6)\n"
     ]
    }
   ],
   "source": [
    "selector = VarianceThreshold()\n",
    "new_x = selector.fit_transform(X_)\n",
    "print(new_x.shape)"
   ]
  },
  {
   "cell_type": "markdown",
   "metadata": {},
   "source": [
    "### Nota-se que a redução não surtiu efeito, pois neste caso, estamos lidando somente com features contínuas\n"
   ]
  },
  {
   "cell_type": "markdown",
   "metadata": {},
   "source": [
    "## Agora vamos tentar reduzir a dimensionalidade por uma abordagem estatística. Primeiro para 2 e depois para 3 dimensões, variando o valor de K. Lembre-se que após gerar um novo conjunto X reduzido, você deverá testar o mesmo classificador utilizado no exemplo inicial para fins de comparação:"
   ]
  },
  {
   "cell_type": "code",
   "execution_count": 13,
   "metadata": {},
   "outputs": [
    {
     "name": "stdout",
     "output_type": "stream",
     "text": [
      "(1338, 2)\n"
     ]
    },
    {
     "data": {
      "text/plain": [
       "array([[1.        , 0.25161076],\n",
       "       [0.        , 0.00963595],\n",
       "       [0.        , 0.05311516],\n",
       "       ...,\n",
       "       [0.        , 0.00810808],\n",
       "       [0.        , 0.01414352],\n",
       "       [1.        , 0.44724873]])"
      ]
     },
     "execution_count": 13,
     "metadata": {},
     "output_type": "execute_result"
    }
   ],
   "source": [
    "x_new = SelectKBest(chi2, k=2).fit_transform(X_, y_)\n",
    "print(x_new.shape)"
   ]
  },
  {
   "cell_type": "code",
   "execution_count": 19,
   "metadata": {},
   "outputs": [],
   "source": [
    "def reduceWithScore():\n",
    "    for k in range(2, 7):\n",
    "        x_new = SelectKBest(chi2, k=k).fit_transform(X_, y_)\n",
    "        X_train, X_test, y_train, y_test = train_test_split(x_new, y_, test_size=0.3, random_state=1)\n",
    "        clf.fit(X_train, y_train)\n",
    "        y_pred = clf.predict(X_test)\n",
    "        print('Resultado com redução de dimensionalidade= ', k)\n",
    "        print(classification_report(y_test, y_pred))"
   ]
  },
  {
   "cell_type": "markdown",
   "metadata": {},
   "source": [
    "## Agora você deverá fazer o mesmo para 3 dimensões"
   ]
  },
  {
   "cell_type": "code",
   "execution_count": 21,
   "metadata": {},
   "outputs": [
    {
     "name": "stdout",
     "output_type": "stream",
     "text": [
      "Resultado com redução de dimensionalidade=  2\n",
      "              precision    recall  f1-score   support\n",
      "\n",
      "         0.0       0.68      0.62      0.65       205\n",
      "         1.0       0.64      0.69      0.66       197\n",
      "\n",
      "    accuracy                           0.66       402\n",
      "   macro avg       0.66      0.66      0.66       402\n",
      "weighted avg       0.66      0.66      0.66       402\n",
      "\n",
      "Resultado com redução de dimensionalidade=  3\n",
      "              precision    recall  f1-score   support\n",
      "\n",
      "         0.0       0.57      0.54      0.55       205\n",
      "         1.0       0.55      0.58      0.56       197\n",
      "\n",
      "    accuracy                           0.56       402\n",
      "   macro avg       0.56      0.56      0.56       402\n",
      "weighted avg       0.56      0.56      0.56       402\n",
      "\n",
      "Resultado com redução de dimensionalidade=  4\n",
      "              precision    recall  f1-score   support\n",
      "\n",
      "         0.0       0.62      0.60      0.61       205\n",
      "         1.0       0.60      0.61      0.60       197\n",
      "\n",
      "    accuracy                           0.61       402\n",
      "   macro avg       0.61      0.61      0.61       402\n",
      "weighted avg       0.61      0.61      0.61       402\n",
      "\n",
      "Resultado com redução de dimensionalidade=  5\n",
      "              precision    recall  f1-score   support\n",
      "\n",
      "         0.0       0.60      0.56      0.58       205\n",
      "         1.0       0.57      0.61      0.59       197\n",
      "\n",
      "    accuracy                           0.58       402\n",
      "   macro avg       0.59      0.59      0.58       402\n",
      "weighted avg       0.59      0.58      0.58       402\n",
      "\n",
      "Resultado com redução de dimensionalidade=  6\n",
      "              precision    recall  f1-score   support\n",
      "\n",
      "         0.0       0.61      0.55      0.58       205\n",
      "         1.0       0.57      0.63      0.60       197\n",
      "\n",
      "    accuracy                           0.59       402\n",
      "   macro avg       0.59      0.59      0.59       402\n",
      "weighted avg       0.59      0.59      0.59       402\n",
      "\n"
     ]
    }
   ],
   "source": [
    "reduceWithScore ()"
   ]
  },
  {
   "cell_type": "markdown",
   "metadata": {},
   "source": [
    "## Perguntas a serem respondidas:\n",
    "### Existe melhora na performance do classificador ao reduzir a dimensionalidade? Para o método SelectKBest, qual o valor de K que maximiza a performance? \n",
    "\n"
   ]
  },
  {
   "cell_type": "markdown",
   "metadata": {},
   "source": [
    "- Foi evidente que a redução de dimensionalidade com k  2 foi a melhor tanto em acuracia como nas outras métricas\n",
    "- Realmente o resultado me impressionou, o dataset foi escolhido seletivamente para ter esse resultado"
   ]
  }
 ],
 "metadata": {
  "kernelspec": {
   "display_name": "Python 3",
   "language": "python",
   "name": "python3"
  },
  "language_info": {
   "codemirror_mode": {
    "name": "ipython",
    "version": 3
   },
   "file_extension": ".py",
   "mimetype": "text/x-python",
   "name": "python",
   "nbconvert_exporter": "python",
   "pygments_lexer": "ipython3",
   "version": "3.7.3"
  }
 },
 "nbformat": 4,
 "nbformat_minor": 4
}
